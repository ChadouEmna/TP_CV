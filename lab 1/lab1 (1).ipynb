{
 "cells": [
  {
   "cell_type": "markdown",
   "id": "313ba73e",
   "metadata": {},
   "source": [
    "lab 1 partie 1 : Chadou Emna & Sayer Amal"
   ]
  },
  {
   "cell_type": "code",
   "execution_count": 7,
   "id": "96e0aaeb",
   "metadata": {},
   "outputs": [],
   "source": [
    "import cv2"
   ]
  },
  {
   "cell_type": "code",
   "execution_count": 9,
   "id": "00a978c0",
   "metadata": {},
   "outputs": [],
   "source": [
    "path =r'C:\\Users\\Asus\\Desktop\\bird.jpg'\n",
    "image = cv2.imread(path)\n",
    "cv2.imshow('bird', image)\n",
    "#waits for user to press any key \n",
    "#this is necessary to avoid Python kernel form crashing)\n",
    "cv2.waitKey(0)\n",
    "#closing all open windows \n",
    "cv2.destroyAllWindows()"
   ]
  },
  {
   "cell_type": "code",
   "execution_count": 10,
   "id": "46a64280",
   "metadata": {},
   "outputs": [],
   "source": [
    "#import all packages\n",
    "import cv2\n",
    "import numpy as np\n",
    "import matplotlib.pyplot as plt"
   ]
  },
  {
   "cell_type": "code",
   "execution_count": 11,
   "id": "f861ffe4",
   "metadata": {},
   "outputs": [],
   "source": [
    "# Flipping\n",
    "flipVertical = cv2.flip(image, 0)\n",
    "flipHorizontal = cv2.flip(image, 1)\n",
    "flipBoth = cv2.flip(image, -1)\n",
    "cv2.imshow('Flipped vertical image', flipVertical)\n",
    "cv2.imshow('Flipped horizontal image', flipHorizontal)\n",
    "cv2.imshow('Flipped both image', flipBoth)\n",
    "cv2.waitKey(0)\n",
    "cv2.destroyAllWindows()"
   ]
  },
  {
   "cell_type": "code",
   "execution_count": 12,
   "id": "e297d806",
   "metadata": {},
   "outputs": [],
   "source": [
    "# Cropping\n",
    "cropped_image = image[80:280, 150:330]\n",
    "cv2.imshow(\"cropped\", cropped_image)\n",
    "cv2.waitKey(0)\n",
    "cv2.destroyAllWindows()"
   ]
  },
  {
   "cell_type": "code",
   "execution_count": 5,
   "id": "ddf50493",
   "metadata": {},
   "outputs": [],
   "source": [
    "# Scaling\n",
    "#downscale the image using new  width and height\n",
    "down_width = 300\n",
    "down_height = 200\n",
    "down_points = (down_width, down_height)\n",
    "resized_down = cv2.resize(image, down_points, interpolation= cv2.INTER_LINEAR)\n",
    "#upscale the image using new  width and height\n",
    "up_width = 600\n",
    "up_height = 400\n",
    "up_points = (up_width, up_height)\n",
    "resized_up = cv2.resize(image, up_points, interpolation= cv2.INTER_LINEAR)\n",
    "# Display images\n",
    "cv2.imshow('Resized Down by defining height and width', resized_down)\n",
    "cv2.imshow('Resized Up image by defining height and width', resized_up)\n",
    "cv2.waitKey()\n",
    "cv2.destroyAllWindows()"
   ]
  },
  {
   "cell_type": "code",
   "execution_count": 14,
   "id": "355bf71c",
   "metadata": {},
   "outputs": [
    {
     "data": {
      "text/plain": [
       "-1"
      ]
     },
     "execution_count": 14,
     "metadata": {},
     "output_type": "execute_result"
    }
   ],
   "source": [
    "# Python program to explain cv2.rotate() method\n",
    "  \n",
    "# importing cv2\n",
    "import cv2\n",
    "# Reading an image in default mode\n",
    "src = cv2.imread(path)\n",
    "  \n",
    "# Using cv2.rotate() method\n",
    "# Using cv2.ROTATE_90_CLOCKWISE rotate\n",
    "# by 90 degrees clockwise\n",
    "image5 = cv2.rotate(src, cv2.ROTATE_90_CLOCKWISE)\n",
    "  \n",
    "# Displaying the image\n",
    "cv2.imshow('Image rotated', image5)\n",
    "cv2.waitKey(0)"
   ]
  },
  {
   "cell_type": "code",
   "execution_count": 15,
   "id": "4dc5f94b",
   "metadata": {},
   "outputs": [],
   "source": [
    "##### Brightness\n",
    "image = cv2.imread(r'C:\\Users\\Asus\\Desktop\\bird.jpg')\n",
    "rows,cols,ch = image.shape\n",
    "matrix = np.ones(image.shape, dtype = \"uint8\") * 120\n",
    "imageb = cv2.add(image, matrix)\n",
    "cv2.imshow(\"imageb\",imageb)\n",
    "cv2.waitKey(0)\n",
    "cv2.destroyAllWindows()"
   ]
  },
  {
   "cell_type": "code",
   "execution_count": 16,
   "id": "d4fb9090",
   "metadata": {},
   "outputs": [],
   "source": [
    "# Median Blur\n",
    "image = cv2.imread(r'C:\\Users\\Asus\\Desktop\\bird.jpg')\n",
    "ksize=[10,10]\n",
    "imageMB=cv2.blur(image,ksize)\n",
    "cv2.imshow(\"imageMB\",imageMB)\n",
    "cv2.waitKey(0)\n",
    "cv2.destroyAllWindows()"
   ]
  },
  {
   "cell_type": "code",
   "execution_count": 17,
   "id": "d53c12b2",
   "metadata": {},
   "outputs": [],
   "source": [
    "# Sharpening\n",
    "Kernel = np.array([[0, -1, 0], [-1, 5, -1], [0, -1, 0]])\n",
    "sharpened = cv2.filter2D(src=image, ddepth=-1, kernel=Kernel)\n",
    "cv2.imshow(\"sharpened\",sharpened)\n",
    "cv2.waitKey(0)\n",
    "cv2.destroyAllWindows()"
   ]
  }
 ],
 "metadata": {
  "kernelspec": {
   "display_name": "Python 3",
   "language": "python",
   "name": "python3"
  },
  "language_info": {
   "codemirror_mode": {
    "name": "ipython",
    "version": 3
   },
   "file_extension": ".py",
   "mimetype": "text/x-python",
   "name": "python",
   "nbconvert_exporter": "python",
   "pygments_lexer": "ipython3",
   "version": "3.8.8"
  }
 },
 "nbformat": 4,
 "nbformat_minor": 5
}
